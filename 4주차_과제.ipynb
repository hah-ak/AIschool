{
  "nbformat": 4,
  "nbformat_minor": 0,
  "metadata": {
    "colab": {
      "name": "4주차_과제.ipynb",
      "provenance": [],
      "collapsed_sections": [],
      "include_colab_link": true
    },
    "kernelspec": {
      "name": "python3",
      "display_name": "Python 3"
    }
  },
  "cells": [
    {
      "cell_type": "markdown",
      "metadata": {
        "id": "view-in-github",
        "colab_type": "text"
      },
      "source": [
        "<a href=\"https://colab.research.google.com/github/hah-ak/AIschool/blob/master/4%EC%A3%BC%EC%B0%A8_%EA%B3%BC%EC%A0%9C.ipynb\" target=\"_parent\"><img src=\"https://colab.research.google.com/assets/colab-badge.svg\" alt=\"Open In Colab\"/></a>"
      ]
    },
    {
      "cell_type": "markdown",
      "metadata": {
        "id": "wxkL6PjwsI6L",
        "colab_type": "text"
      },
      "source": [
        "# 4주차 과제\n",
        "- 용어 정리\n",
        "- 딥러닝 강의 클론 코딩\n",
        "- 딥러닝 순전파 & 역전파 계산"
      ]
    },
    {
      "cell_type": "markdown",
      "metadata": {
        "id": "ixEtDe6_uGgI",
        "colab_type": "text"
      },
      "source": [
        "## 1. 용어 정리\n",
        "\n",
        "다음 제시된 단어의 정의(설명)를 정리하여 작성 하세요.\n",
        "\n",
        "* 2문장 이상 작성 해 주세요. \n",
        "* 주제(단어)와 크게 벗어나지만 않는다면 정답처리 됩니다.\n",
        "* 강의 뿐 아니라 기타 레퍼런스를 참고하여 작성하셔도 됩니다. (기타 레퍼런스를 참고하신 경우, 해당 레퍼런스를 정리하여 하단에 작성해 주세요.)\n"
      ]
    },
    {
      "cell_type": "markdown",
      "metadata": {
        "id": "0lfwat8eurKZ",
        "colab_type": "text"
      },
      "source": [
        "__(예시)__\n",
        "### 심층 신경망\n",
        ": 입력층과 출력층 사이에 여러 개의 은닉층들로 이뤄진 인공신경망이다. 심층 신경망은 일반적으로 인공신경망과 마찬가지로 복잡한 비선형 관계들을 모델링 할 수 있다. 신층신경망의 목적은 분류 및 수치예측을 하기 위함이고 이미지 트레이닝이나 문자인식과 같은 분야에서 매우 유용하게 쓰이고 있다."
      ]
    },
    {
      "cell_type": "markdown",
      "metadata": {
        "id": "Y8YJNKG_v65A",
        "colab_type": "text"
      },
      "source": [
        "### MCP 뉴런\n",
        ":사람의 뇌의 신경세포와 연결된 뉴런을 말한다. 이때 여러 신경으로 받아온 값이 일정 이상이 될때 출력을 한다. 이 구조를 이용해 퍼셉트론으로 발전하게 된다.\n",
        "\n",
        "### 퍼셉트론\n",
        ":MCP뉴런을 기반으로 만들어진 알고리즘이다.\n",
        "자동으로 최적의 가중치를 학습하는 알고리즘으로 가중치는 출력신호를 낼지 말지 판단하는 계수가 된다. 여러 입력값에다가 가중치 곱한 후 이용해 모두 더해진 값을 출력한다. 그러나 퍼셉트론 하나만으로는 아주 간단한 계산만 되므로, 단순 선형문제에서 밖에 사용을 못한다.(xor문제를 해결하지 못하는 이유)\n",
        "다층 퍼셉트론을 이용해 은닉층을 이용, 선형 분류 다층 퍼셉트론을 이용해 은닉층을 이용, 선형 분류 판단선을 여러개 그림으로써 해결 할 수 있었으나 파라미터가 많아진다.\n",
        "### 역전파\n",
        ":오차를 이용해 출력에서 입력층으로 가중치를 조절해 가는 방법이다. 다층 퍼셉트론의 파라미터의 갯수가 많아지는 문제를 효율적으로 해결할 수 있는 방법이다. 손실 함수가 최솟값일 때의 파라미터를 찾아 올바른 학습결과를 찾아내는 것이 목적이다. 역전파의 경우 시그모이드함수와 소프트맥스 함수를 썻을때, 기울기가 소멸하는 문제가 발생해 오차의 조정이 일어나지 않게 되는대 ReLU함수를 이용해 이 문제를 어느정도 해결 할 수 있다.\n",
        "\n",
        "### 강화학습\n",
        ":에이전트와 환경이 상호작용하며 보상을 구해 보상의 값이 최대가 되는 결과를 찾는것을 목적으로 하는 학습. 탐험과 활용을 통해 값을 구하게 되는대 이때, 스텝이 많은 경우 경우의 수가 매우 많아지고, 미래에 어떤 값이 최대의 보상을 갖게 되는지 알수 없게 된다. 이에 대한 명확한 답이 없어 강화학습의 독특한 어려움을 가지게 된다.\n",
        "\n",
        "### 과적합\n",
        ":너무 많은 정보를 훈련시켜 특정경우에만 특화되게 훈련이 되어 조금이라도 다른경우, 즉 실전에서는 오히려 오차가 커지는 경우를 뜻한다. 드롭아웃을 이용해 과적합을 막을 수 있다.\n",
        "\n",
        "### 차원의 저주\n",
        ":고정된 크기의 훈련 데이터셋 차원이 늘어남에 따라 특성 공간이 점점 희소해 지는 현상이다. 너무 많은 값으로 분류 또는 회귀를 할때, 데이터의 차원이 엄청나게 커지게 되어 데이터의 계산 복잡도가 올라가게 되는 경우이다. 차원의 저주를 해결하기 위해서 데이터정제와 차원의 축소가 필요하다.\n"
      ]
    },
    {
      "cell_type": "markdown",
      "metadata": {
        "id": "d-zfFXLCy6jD",
        "colab_type": "text"
      },
      "source": [
        "## 2. 딥러닝 강의 클론 코딩\n",
        "\n",
        "####__퍼셉트론 구조 구현하기__ \n",
        "딥러닝 강의(__딥러닝 원리[1] 3:15 ~ 5:15 부분__)를 보고 코드를 따라 치며 출력 결과를 만드세요.\n",
        " \n",
        "\n",
        "* 하나의 코드셀에 해당 코드를 한번에 다 적어서 실행해주세요 (__그렇게 하지 않을 경우, 아래 이미지와 같은 출력값이 나오지 않을 수 있습니다__)\n",
        "\n",
        "*__주의!__ 실제로 코딩해서 출력해보면 강의에 나온 출력 결과와 다르게 나옵니다!!\n"
      ]
    },
    {
      "cell_type": "markdown",
      "metadata": {
        "id": "wcc5mzI9oZ7r",
        "colab_type": "text"
      },
      "source": [
        "![대체 텍스트](https://www.notion.so/image/https%3A%2F%2Fs3-us-west-2.amazonaws.com%2Fsecure.notion-static.com%2F0cceeed0-0235-4b0f-af88-0b8c377d5b4b%2F_2020-06-09__9.35.23.png?table=block&id=88fd8912-9356-49a4-9fda-a1a63fe96ea9&width=2870&cache=v2)"
      ]
    },
    {
      "cell_type": "code",
      "metadata": {
        "id": "X6d3_dCycn-V",
        "colab_type": "code",
        "colab": {
          "base_uri": "https://localhost:8080/",
          "height": 215
        },
        "outputId": "07fe1238-6432-4704-c450-a9a79b560b3c"
      },
      "source": [
        "import tensorflow as tf\n",
        "tf.compat.v1.set_random_seed(2020)\n",
        "x = 1\n",
        "y = 0\n",
        "w = tf.random.normal([1],0,1)\n",
        "\n",
        "import math\n",
        "def sigmoid(x):\n",
        "  return 1/(1 + math.exp(-x))\n",
        "\n",
        "output = sigmoid( x * w)\n",
        "print(output)\n",
        "\n",
        "for i in range(1000):\n",
        "  output = sigmoid( x * w )\n",
        "  error = y - output\n",
        "  w = w + x * 0.1 * error\n",
        "\n",
        "  if i % 100 == 99:\n",
        "    print(\"학습 횟수 : \",i,\"Error : \", error, \"예측 결과 : \", output)"
      ],
      "execution_count": 10,
      "outputs": [
        {
          "output_type": "stream",
          "text": [
            "0.47477188589261\n",
            "학습 횟수 :  99 Error :  -0.10010598284299604 예측 결과 :  0.10010598284299604\n",
            "학습 횟수 :  199 Error :  -0.05178399422833116 예측 결과 :  0.05178399422833116\n",
            "학습 횟수 :  299 Error :  -0.034590451977903586 예측 결과 :  0.034590451977903586\n",
            "학습 횟수 :  399 Error :  -0.02588962752851373 예측 결과 :  0.02588962752851373\n",
            "학습 횟수 :  499 Error :  -0.020658699939863617 예측 결과 :  0.020658699939863617\n",
            "학습 횟수 :  599 Error :  -0.017174253993457355 예측 결과 :  0.017174253993457355\n",
            "학습 횟수 :  699 Error :  -0.014689506449480992 예측 결과 :  0.014689506449480992\n",
            "학습 횟수 :  799 Error :  -0.012829497265431342 예측 결과 :  0.012829497265431342\n",
            "학습 횟수 :  899 Error :  -0.011385568271837804 예측 결과 :  0.011385568271837804\n",
            "학습 횟수 :  999 Error :  -0.010232493309882492 예측 결과 :  0.010232493309882492\n"
          ],
          "name": "stdout"
        }
      ]
    },
    {
      "cell_type": "markdown",
      "metadata": {
        "id": "kr0HVRk8fOom",
        "colab_type": "text"
      },
      "source": [
        "## 3. 딥러닝 순전파 & 역전파 계산\n",
        "\n",
        "딥러닝 강의(__딥러닝 원리[2] 0:55 ~ 4:32 부분__)에 나오는 순전파 & 역전파 계산에 대한 문제 입니다.\n",
        "\n",
        "해당 영상과 다음 이미지를 참고하여 다음 2가지 물음에 답하세요.\n",
        "\n",
        "\n",
        "(1) 학습률이 0.2 일 경우 출력층의 노드값\n",
        "\n",
        "(2) 학습률이 0.1과 0.2 중 기대출력값이 지도데이터 \"3\"과 더 가까운 학습률은?"
      ]
    },
    {
      "cell_type": "markdown",
      "metadata": {
        "id": "CpwPFWhOUzww",
        "colab_type": "text"
      },
      "source": [
        "![대체 텍스트](https://www.notion.so/image/https%3A%2F%2Fs3-us-west-2.amazonaws.com%2Fsecure.notion-static.com%2Ff54dfd45-92ec-44ae-9616-6949d2484a45%2F_2020-06-10__5.22.03.png?table=block&id=ee05da89-3ceb-4ad9-a2d3-c9f68d24d1d9&width=3580&cache=v2)"
      ]
    },
    {
      "cell_type": "markdown",
      "metadata": {
        "id": "B2OVY7w5U3CI",
        "colab_type": "text"
      },
      "source": [
        "## (1) 학습률이 0.2 일 경우 출력층의 노드값 : 1.6\n",
        "## (2) 학습률이 0.1과 0.2 중 기대출력값이 지도데이터 \"3\"과 더 가까운 학습률은? : 0.1"
      ]
    },
    {
      "cell_type": "code",
      "metadata": {
        "id": "BgavfvqiWxBU",
        "colab_type": "code",
        "colab": {}
      },
      "source": [
        ""
      ],
      "execution_count": 0,
      "outputs": []
    }
  ]
}