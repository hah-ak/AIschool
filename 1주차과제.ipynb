{
  "nbformat": 4,
  "nbformat_minor": 0,
  "metadata": {
    "colab": {
      "name": "1주차과제.ipynb",
      "provenance": [],
      "collapsed_sections": [],
      "authorship_tag": "ABX9TyOkPO/R1W8JAh16x01iF9lL",
      "include_colab_link": true
    },
    "kernelspec": {
      "name": "python3",
      "display_name": "Python 3"
    }
  },
  "cells": [
    {
      "cell_type": "markdown",
      "metadata": {
        "id": "view-in-github",
        "colab_type": "text"
      },
      "source": [
        "<a href=\"https://colab.research.google.com/github/hah-ak/AIschool/blob/master/1%EC%A3%BC%EC%B0%A8%EA%B3%BC%EC%A0%9C.ipynb\" target=\"_parent\"><img src=\"https://colab.research.google.com/assets/colab-badge.svg\" alt=\"Open In Colab\"/></a>"
      ]
    },
    {
      "cell_type": "markdown",
      "metadata": {
        "id": "X8cBoJj_PHmb",
        "colab_type": "text"
      },
      "source": [
        "#  1주차 과제\n",
        "\n",
        "*  ###  음성 및 이미지 인식을 누구나 머신러닝을 통해 쉽게 할수 있게 해주는 서비스\n",
        " **google teachable machine**<br>https://teachablemachine.withgoogle.com/\n",
        " *  이 사이트를 통해 학습된 모델 정보를 받아서 본인이 직접 이용을 해볼 수도있다.\n",
        "<br>\n",
        "*  ###  구글 검색기능에도 쓰인다는 언어 처리 기술 솔루션 BERT\n",
        " google검색으로 기사들 검색\n",
        " *  어떠한 문장이라도 문맥을 정확하게 이해해 사용자가 의도한 말이 무엇인지 정확히 판단하는 기능이라 볼 수있다.\n",
        "<br>\n",
        "*  ###  2단계 자율주행 자동차기술 ADAS기술\n",
        "https://tech.hyundaimotorgroup.com/kr/article/understanding-adas-technology-safety-features/\n",
        " *  일부상황을 차가 직접 인지해 위험으로부터 운전자를 보호하는 기술이다.\n",
        "------\n",
        "모든 기술에 들어가는 설명을 보면 tensorflow와 분류/학습 방법 그리고 하드웨어에 대한 이야기가 나온 것을 알 수 있었다.\n",
        "각 분야의 전공이야기를 제외한 ai및 하드웨어 관련 용어에 대해서도 정확히 이해가 되지 않는 상황이다. 일단은, 수 많은 학습모델과 각 모델들이 어떤 용도로 어떻게 사용되는지 알아보기 이전에 하드웨어를 효율적으로 사용하기 위해 알아야 할 정보처리시에 하드웨어의 동작 방식등에 대해서 공부할 필요성이 있다."
      ]
    },
    {
      "cell_type": "code",
      "metadata": {
        "id": "mD0qR-QpPLci",
        "colab_type": "code",
        "colab": {}
      },
      "source": [
        ""
      ],
      "execution_count": 0,
      "outputs": []
    }
  ]
}